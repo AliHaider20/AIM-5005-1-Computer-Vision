{
 "cells": [
  {
   "cell_type": "markdown",
   "id": "009e8fc2",
   "metadata": {
    "id": "009e8fc2"
   },
   "source": [
    "# 1. Build your own neural network with 3 hidden layers using pytorch (60 points)"
   ]
  },
  {
   "cell_type": "code",
   "execution_count": 27,
   "id": "133be475",
   "metadata": {
    "id": "133be475"
   },
   "outputs": [],
   "source": [
    "import torch.nn as nn\n",
    "import torch\n",
    "from torch.utils.data import Dataset, DataLoader\n",
    "from torchvision.datasets import ImageFolder\n",
    "import matplotlib.pyplot as plt\n",
    "from torchvision import transforms as T\n",
    "from glob import glob\n",
    "# from tqdm import tqdm\n",
    "from PIL import Image\n",
    "import numpy as np\n",
    "from PIL import Image\n",
    "import pandas as pd\n",
    "import os"
   ]
  },
  {
   "cell_type": "code",
   "execution_count": 43,
   "id": "zbyF7d9zvi7X",
   "metadata": {
    "colab": {
     "base_uri": "https://localhost:8080/"
    },
    "id": "zbyF7d9zvi7X",
    "outputId": "85c9cbb6-60f7-44ec-d355-e7f5203c1765"
   },
   "outputs": [
    {
     "name": "stdout",
     "output_type": "stream",
     "text": [
      "Drive already mounted at /content/drive; to attempt to forcibly remount, call drive.mount(\"/content/drive\", force_remount=True).\n"
     ]
    }
   ],
   "source": [
    "from google.colab import drive\n",
    "drive.mount('/content/drive')"
   ]
  },
  {
   "cell_type": "markdown",
   "id": "a0c45b84",
   "metadata": {
    "id": "a0c45b84"
   },
   "source": [
    "# 2. Train your model using cow teat datasets (30 points)\n",
    "\n",
    "## You can resize the image to 75 * 75 *3"
   ]
  },
  {
   "cell_type": "code",
   "execution_count": 22,
   "id": "u0B3npNTKKHb",
   "metadata": {
    "id": "u0B3npNTKKHb"
   },
   "outputs": [],
   "source": [
    "Img_size = 75  \n",
    "num_epochs = 10\n",
    "learning_rate = 0.001\n",
    "batch_size = 30\n",
    "pin_memory = True\n",
    "num_workers = 2\n",
    "\n",
    "transforms = T.Compose([T.ToTensor(), T.Resize([Img_size, Img_size]), T.GaussianBlur(3)])\n",
    "\n",
    "class Testdata(Dataset):\n",
    "    def __init__(self, directory, transforms):\n",
    "        self.files = glob(directory)\n",
    "        self.transform = transforms\n",
    "        self.dir = directory\n",
    "    def __len__(self):\n",
    "        return len(self.files)\n",
    "    def __getitem__(self, index):\n",
    "        file = self.files[index]\n",
    "        img = Image.open(file).convert('RGB')\n",
    "        img = self.transform(img)\n",
    "        return img, file\n",
    "\n",
    "full_dataset = ImageFolder(r\"SCTL-main/SCTL-main/Train\", transform = transforms)\n",
    "test_ds = Testdata(\"SCTL-main/SCTL-main/Test/Test/*.jpg\", transforms=transforms)\n",
    "train_size = int(0.8 * len(full_dataset))\n",
    "test_size = len(full_dataset) - train_size\n",
    "train_dataset, valid_dataset = torch.utils.data.random_split(full_dataset, [train_size, test_size])\n",
    "\n",
    "train_dl = DataLoader(train_dataset, batch_size=batch_size, pin_memory=pin_memory)\n",
    "valid_dl = DataLoader(valid_dataset, batch_size=batch_size, pin_memory=pin_memory)\n",
    "test_dl = DataLoader(test_ds, batch_size=batch_size, pin_memory=pin_memory)"
   ]
  },
  {
   "cell_type": "code",
   "execution_count": 5,
   "id": "OcqqZQ38GVbw",
   "metadata": {
    "id": "OcqqZQ38GVbw"
   },
   "outputs": [],
   "source": [
    "class TeatClassifier(nn.Module): \n",
    "    def __init__(self):\n",
    "        super().__init__()\n",
    "        self.model = nn.Sequential(\n",
    "            nn.Flatten(), \n",
    "            nn.Linear(3*75*75, 10000), \n",
    "            nn.ReLU(),\n",
    "            nn.Linear(10000, 5000),\n",
    "            nn.ReLU(),\n",
    "            nn.Linear(5000, 1000),\n",
    "            nn.ReLU(),\n",
    "            nn.Linear(1000, 4)\n",
    "        )\n",
    "\n",
    "    def forward(self, x): \n",
    "        return self.model(x)\n",
    "\n",
    "device = \"cuda\" if torch.cuda.is_available() else \"cpu\"\n",
    "\n",
    "clf = TeatClassifier().to(device)"
   ]
  },
  {
   "cell_type": "code",
   "execution_count": 6,
   "id": "TkMLeEgiN2M6",
   "metadata": {
    "colab": {
     "base_uri": "https://localhost:8080/"
    },
    "id": "TkMLeEgiN2M6",
    "outputId": "8ac6aa04-58aa-4c0d-f095-4865cbc04d58"
   },
   "outputs": [
    {
     "name": "stdout",
     "output_type": "stream",
     "text": [
      "Epoch:0 training loss is 39.825897216796875\n",
      "Epoch:0 training loss is 1.0769389867782593\n",
      "Epoch:0 valid accuracy is 56.08695602416992\n",
      "Epoch:0 valid loss is 1.0135738849639893\n",
      "Epoch:1 training loss is 42.328617095947266\n",
      "Epoch:1 training loss is 1.074897289276123\n",
      "Epoch:1 valid accuracy is 60.869564056396484\n",
      "Epoch:1 valid loss is 1.0205308198928833\n",
      "Epoch:2 training loss is 46.78998947143555\n",
      "Epoch:2 training loss is 1.108281135559082\n",
      "Epoch:2 valid accuracy is 48.69565200805664\n",
      "Epoch:2 valid loss is 1.0937522649765015\n",
      "Epoch:3 training loss is 48.857452392578125\n",
      "Epoch:3 training loss is 1.0415321588516235\n",
      "Epoch:3 valid accuracy is 58.260868072509766\n",
      "Epoch:3 valid loss is 1.077430009841919\n",
      "Epoch:4 training loss is 52.44831466674805\n",
      "Epoch:4 training loss is 1.056543231010437\n",
      "Epoch:4 valid accuracy is 55.21739196777344\n",
      "Epoch:4 valid loss is 1.0407706499099731\n",
      "Epoch:5 training loss is 54.29814910888672\n",
      "Epoch:5 training loss is 0.9895236492156982\n",
      "Epoch:5 valid accuracy is 64.34782409667969\n",
      "Epoch:5 valid loss is 0.9806115031242371\n",
      "Epoch:6 training loss is 56.692054748535156\n",
      "Epoch:6 training loss is 0.9467422366142273\n",
      "Epoch:6 valid accuracy is 67.82608795166016\n",
      "Epoch:6 valid loss is 1.002190351486206\n",
      "Epoch:7 training loss is 57.23612594604492\n",
      "Epoch:7 training loss is 0.9860422015190125\n",
      "Epoch:7 valid accuracy is 50.0\n",
      "Epoch:7 valid loss is 1.0422265529632568\n",
      "Epoch:8 training loss is 56.474430084228516\n",
      "Epoch:8 training loss is 0.8530696034431458\n",
      "Epoch:8 valid accuracy is 63.91304397583008\n",
      "Epoch:8 valid loss is 1.0319212675094604\n",
      "Epoch:9 training loss is 58.541893005371094\n",
      "Epoch:9 training loss is 0.8581721782684326\n",
      "Epoch:9 valid accuracy is 57.826087951660156\n",
      "Epoch:9 valid loss is 1.0983840227127075\n"
     ]
    }
   ],
   "source": [
    "opt = torch.optim.Adam(clf.parameters(), lr=learning_rate)\n",
    "criterion = nn.CrossEntropyLoss() \n",
    "training_loss = []\n",
    "valid_loss = []\n",
    "valid_acc = []\n",
    "train_acc = []\n",
    "\n",
    "\n",
    "for epoch in range(num_epochs):\n",
    "# Training loop\n",
    "    correct = 0\n",
    "    for batch in train_dl: \n",
    "        X,y = batch \n",
    "        X, y = X.to(device), y.to(device) \n",
    "        yhat = clf(X) \n",
    "        loss = criterion(yhat, y) \n",
    "        # Apply backprop \n",
    "        opt.zero_grad()\n",
    "        loss.backward() \n",
    "        opt.step() \n",
    "        correct += (torch.argmax(yhat, dim=1) == y).float().sum().detach().cpu()\n",
    "    accuracy = 100 * correct / len(train_dataset)\n",
    "    train_acc.append(accuracy)    \n",
    "    print(f\"Epoch:{epoch} training loss is {accuracy}\")\n",
    "    training_loss.append(loss.item())\n",
    "    print(f\"Epoch:{epoch} training loss is {loss.item()}\")\n",
    "    \n",
    "    clf.eval()\n",
    "\n",
    "# Valid loop\n",
    "    correct = 0\n",
    "    for batch in valid_dl:\n",
    "        X, y = batch \n",
    "        X, y = X.to(device), y.to(device) \n",
    "        yhat = clf(X) \n",
    "        loss = criterion(yhat, y)\n",
    "        correct += (torch.argmax(yhat, dim=1) == y).float().sum().detach().cpu()\n",
    "    accuracy = 100 * correct / len(valid_dataset)\n",
    "    valid_acc.append(accuracy)\n",
    "    print(f\"Epoch:{epoch} valid accuracy is {accuracy}\") \n",
    "    print(f\"Epoch:{epoch} valid loss is {loss.item()}\")\n",
    "    valid_loss.append(loss.item())\n"
   ]
  },
  {
   "cell_type": "code",
   "execution_count": 7,
   "id": "aiBeEVcDOpqE",
   "metadata": {
    "id": "aiBeEVcDOpqE"
   },
   "outputs": [
    {
     "data": {
      "text/plain": [
       "[<matplotlib.lines.Line2D at 0x1cecaa7c340>]"
      ]
     },
     "execution_count": 7,
     "metadata": {},
     "output_type": "execute_result"
    },
    {
     "data": {
      "image/png": "[encoded data removed]",
      "text/plain": [
       "<Figure size 640x480 with 1 Axes>"
      ]
     },
     "metadata": {},
     "output_type": "display_data"
    }
   ],
   "source": [
    "plt.plot(training_loss)\n",
    "plt.plot(valid_loss)"
   ]
  },
  {
   "cell_type": "code",
   "execution_count": 8,
   "id": "frGh9LYZkskN",
   "metadata": {
    "id": "frGh9LYZkskN"
   },
   "outputs": [
    {
     "data": {
      "text/plain": [
       "[<matplotlib.lines.Line2D at 0x1ce94e97220>]"
      ]
     },
     "execution_count": 8,
     "metadata": {},
     "output_type": "execute_result"
    },
    {
     "data": {
      "image/png": "[encoded data removed]",
      "text/plain": [
       "<Figure size 640x480 with 1 Axes>"
      ]
     },
     "metadata": {},
     "output_type": "display_data"
    }
   ],
   "source": [
    "plt.plot(valid_acc)\n",
    "plt.plot(train_acc)"
   ]
  },
  {
   "cell_type": "code",
   "execution_count": 26,
   "id": "CULkGEi5Pluk",
   "metadata": {
    "id": "CULkGEi5Pluk"
   },
   "outputs": [
    {
     "name": "stdout",
     "output_type": "stream",
     "text": [
      "380\n",
      "380\n"
     ]
    },
    {
     "data": {
      "text/html": [
       "<div>\n",
       "<style scoped>\n",
       "    .dataframe tbody tr th:only-of-type {\n",
       "        vertical-align: middle;\n",
       "    }\n",
       "\n",
       "    .dataframe tbody tr th {\n",
       "        vertical-align: top;\n",
       "    }\n",
       "\n",
       "    .dataframe thead th {\n",
       "        text-align: right;\n",
       "    }\n",
       "</style>\n",
       "<table border=\"1\" class=\"dataframe\">\n",
       "  <thead>\n",
       "    <tr style=\"text-align: right;\">\n",
       "      <th></th>\n",
       "      <th>20200724_093921_RF_C2_PP_M.jpg</th>\n",
       "      <th>0</th>\n",
       "    </tr>\n",
       "  </thead>\n",
       "  <tbody>\n",
       "    <tr>\n",
       "      <th>0</th>\n",
       "      <td>20200724_093926_LH_C1_PN_M.jpg</td>\n",
       "      <td>0</td>\n",
       "    </tr>\n",
       "    <tr>\n",
       "      <th>1</th>\n",
       "      <td>20200724_093930_LF_C1_PN_M.jpg</td>\n",
       "      <td>0</td>\n",
       "    </tr>\n",
       "    <tr>\n",
       "      <th>2</th>\n",
       "      <td>20200724_093930_LH_C3_PN_M.jpg</td>\n",
       "      <td>0</td>\n",
       "    </tr>\n",
       "    <tr>\n",
       "      <th>3</th>\n",
       "      <td>20200724_093935_RF_C2_PP_M.jpg</td>\n",
       "      <td>0</td>\n",
       "    </tr>\n",
       "    <tr>\n",
       "      <th>4</th>\n",
       "      <td>20200724_093940_LH_C1_PP_M.jpg</td>\n",
       "      <td>0</td>\n",
       "    </tr>\n",
       "    <tr>\n",
       "      <th>...</th>\n",
       "      <td>...</td>\n",
       "      <td>...</td>\n",
       "    </tr>\n",
       "    <tr>\n",
       "      <th>374</th>\n",
       "      <td>R9_0787_50_crop_LF_C2_PN_m.jpg</td>\n",
       "      <td>0</td>\n",
       "    </tr>\n",
       "    <tr>\n",
       "      <th>375</th>\n",
       "      <td>R9_0791_55_crop_LF_C3_PN_m.jpg</td>\n",
       "      <td>1</td>\n",
       "    </tr>\n",
       "    <tr>\n",
       "      <th>376</th>\n",
       "      <td>R9_0791_55_crop_LH_C2_PN_m.jpg</td>\n",
       "      <td>0</td>\n",
       "    </tr>\n",
       "    <tr>\n",
       "      <th>377</th>\n",
       "      <td>R9_0791_55_crop_RH_C2_PN_m.jpg</td>\n",
       "      <td>1</td>\n",
       "    </tr>\n",
       "    <tr>\n",
       "      <th>378</th>\n",
       "      <td>R9_0793_57_crop_LH_C2_PP_m.jpg</td>\n",
       "      <td>0</td>\n",
       "    </tr>\n",
       "  </tbody>\n",
       "</table>\n",
       "<p>379 rows × 2 columns</p>\n",
       "</div>"
      ],
      "text/plain": [
       "     20200724_093921_RF_C2_PP_M.jpg  0\n",
       "0    20200724_093926_LH_C1_PN_M.jpg  0\n",
       "1    20200724_093930_LF_C1_PN_M.jpg  0\n",
       "2    20200724_093930_LH_C3_PN_M.jpg  0\n",
       "3    20200724_093935_RF_C2_PP_M.jpg  0\n",
       "4    20200724_093940_LH_C1_PP_M.jpg  0\n",
       "..                              ... ..\n",
       "374  R9_0787_50_crop_LF_C2_PN_m.jpg  0\n",
       "375  R9_0791_55_crop_LF_C3_PN_m.jpg  1\n",
       "376  R9_0791_55_crop_LH_C2_PN_m.jpg  0\n",
       "377  R9_0791_55_crop_RH_C2_PN_m.jpg  1\n",
       "378  R9_0793_57_crop_LH_C2_PP_m.jpg  0\n",
       "\n",
       "[379 rows x 2 columns]"
      ]
     },
     "execution_count": 26,
     "metadata": {},
     "output_type": "execute_result"
    }
   ],
   "source": [
    "with open('model_state.pt', 'wb') as f: \n",
    "    torch.save(clf.state_dict(), f) \n",
    "\n",
    "with open('model_state.pt', 'rb') as f: \n",
    "    clf.load_state_dict(torch.load(f))\n",
    "      \n",
    "test_preds = []\n",
    "files = []\n",
    "\n",
    "for batch in test_dl:\n",
    "    img, fname = batch\n",
    "    pred = clf(img.to(device))\n",
    "    test_preds.extend(torch.argmax(pred, dim=1).detach().cpu())\n",
    "    files.extend(np.array(fname).flatten())\n",
    "\n",
    "print(len(files))\n",
    "print(len(test_preds))\n",
    "df = pd.DataFrame({\"Imagename\":files, \"preds\":test_preds})\n",
    "df.preds = df.preds.astype(int)\n",
    "df.Imagename = df.Imagename.apply(lambda x: x.split(\"/\")[-1][5:])\n",
    "df.to_csv(\"submission.csv\", header=None, index=None)\n",
    "pd.read_csv(\"submission.csv\")"
   ]
  },
  {
   "cell_type": "markdown",
   "id": "BFQQ2LbiemUR",
   "metadata": {
    "id": "BFQQ2LbiemUR"
   },
   "source": [
    "# 3. Evaluate your model using the developed software (10 points)"
   ]
  },
  {
   "attachments": {
    "image.png": {
     "image/png": "[encoded data removed]"
    }
   },
   "cell_type": "markdown",
   "id": "3PEhl_xjexG-",
   "metadata": {
    "id": "3PEhl_xjexG-"
   },
   "source": [
    "![image.png](attachment:image.png)"
   ]
  }
 ],
 "metadata": {
  "accelerator": "GPU",
  "colab": {
   "provenance": []
  },
  "gpuClass": "standard",
  "kernelspec": {
   "display_name": "Python 3 (ipykernel)",
   "language": "python",
   "name": "python3"
  },
  "language_info": {
   "codemirror_mode": {
    "name": "ipython",
    "version": 3
   },
   "file_extension": ".py",
   "mimetype": "text/x-python",
   "name": "python",
   "nbconvert_exporter": "python",
   "pygments_lexer": "ipython3",
   "version": "3.9.10"
  }
 },
 "nbformat": 4,
 "nbformat_minor": 5
}
