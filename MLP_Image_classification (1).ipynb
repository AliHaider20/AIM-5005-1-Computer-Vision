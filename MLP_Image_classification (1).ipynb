{
  "cells": [
    {
      "cell_type": "markdown",
      "metadata": {
        "id": "009e8fc2"
      },
      "source": [
        "# Importing the required libraries"
      ],
      "id": "009e8fc2"
    },
    {
      "cell_type": "code",
      "execution_count": 1,
      "metadata": {
        "id": "133be475"
      },
      "outputs": [],
      "source": [
        "import torch.nn as nn\n",
        "import torch\n",
        "from torch.utils.data import Dataset, DataLoader\n",
        "from torchvision.datasets import ImageFolder\n",
        "import matplotlib.pyplot as plt\n",
        "from torchvision import transforms as T\n",
        "from albumentations.pytorch import ToTensorV2\n",
        "from glob import glob\n",
        "import albumentations as A\n",
        "from tqdm import tqdm\n",
        "from PIL import Image\n",
        "import numpy as np\n",
        "from PIL import Image\n",
        "import pandas as pd\n",
        "import os"
      ],
      "id": "133be475"
    },
    {
      "cell_type": "code",
      "execution_count": 2,
      "metadata": {
        "colab": {
          "base_uri": "https://localhost:8080/"
        },
        "id": "zbyF7d9zvi7X",
        "outputId": "b012e1ab-31f9-48bb-be99-022250cc08de"
      },
      "outputs": [
        {
          "output_type": "stream",
          "name": "stdout",
          "text": [
            "Mounted at /content/drive\n"
          ]
        }
      ],
      "source": [
        "from google.colab import drive\n",
        "drive.mount('/content/drive')"
      ],
      "id": "zbyF7d9zvi7X"
    },
    {
      "cell_type": "markdown",
      "metadata": {
        "id": "a0c45b84"
      },
      "source": [
        "\n",
        "\n",
        "# 2. Initializing the required parameters, creating transforms, creating train, valid, and test data loaders."
      ],
      "id": "a0c45b84"
    },
    {
      "cell_type": "code",
      "execution_count": 50,
      "metadata": {
        "id": "u0B3npNTKKHb"
      },
      "outputs": [],
      "source": [
        "Img_size = 75  \n",
        "num_epochs = 30\n",
        "learning_rate = 0.01\n",
        "batch_size = 7\n",
        "pin_memory = True\n",
        "num_workers = 2\n",
        "\n",
        "class Transforms:\n",
        "    def __init__(self):\n",
        "        self.transforms = A.Compose(\n",
        "    [\n",
        "        A.Resize(Img_size, Img_size),\n",
        "        # A.Normalize(mean=(0.485, 0.456, 0.406), std=(0.229, 0.224, 0.225)),\n",
        "        # A.dropout.cutout.Cutout(),\n",
        "        Otsu(),\n",
        "        ToTensorV2()\n",
        "    ]\n",
        ")\n",
        "\n",
        "    def __call__(self, img, *args, **kwargs):\n",
        "        return self.transforms(image=np.array(img, np.float32))['image']\n",
        "\n",
        "transforms = T.Compose([T.ToTensor(), T.Resize([Img_size, Img_size]), T.GaussianBlur(3), Otsu])\n",
        "\n",
        "\n",
        "\n",
        "class Testdata(Dataset):\n",
        "    def __init__(self, directory, transforms):\n",
        "        self.files = glob(directory)\n",
        "        self.transform = transforms\n",
        "        self.dir = directory\n",
        "    def __len__(self):\n",
        "        return len(self.files)\n",
        "    def __getitem__(self, index):\n",
        "        file = self.files[index]\n",
        "        img = Image.open(file).convert('RGB')\n",
        "        img = self.transform(img)\n",
        "        return img, file\n",
        "\n",
        "full_dataset = ImageFolder(r\"/content/drive/MyDrive/SCTL-main/SCTL-main/Train\", transform = transforms)\n",
        "test_ds = Testdata(\"/content/drive/MyDrive/SCTL-main/SCTL-main/Test/Test/*.jpg\", transforms= transforms)\n",
        "train_size = int(0.8 * len(full_dataset))\n",
        "test_size = len(full_dataset) - train_size\n",
        "train_dataset, valid_dataset = torch.utils.data.random_split(full_dataset, [train_size, test_size])\n",
        "\n",
        "train_dl = DataLoader(train_dataset, batch_size=batch_size, pin_memory=pin_memory, shuffle=True)\n",
        "valid_dl = DataLoader(valid_dataset, batch_size=batch_size, pin_memory=pin_memory, shuffle=True)\n",
        "test_dl = DataLoader(test_ds, batch_size=batch_size, pin_memory=pin_memory)"
      ],
      "id": "u0B3npNTKKHb"
    },
    {
      "cell_type": "code",
      "execution_count": 52,
      "metadata": {
        "colab": {
          "base_uri": "https://localhost:8080/",
          "height": 268
        },
        "id": "dnZiz8anoqE1",
        "outputId": "05d82292-3206-4251-98e1-a860cfc3e154"
      },
      "outputs": [
        {
          "output_type": "display_data",
          "data": {
            "text/plain": [
              "<Figure size 432x288 with 1 Axes>"
            ],
            "image/png": "[encoded data removed]"
          },
          "metadata": {
            "needs_background": "light"
          }
        }
      ],
      "source": [
        "for img, lbl in train_dl:\n",
        "  plt.imshow(img[0].swapaxes(0, 2))\n",
        "  img = img[0].numpy()\n",
        "  # print(img[0].shape)\n",
        "  break"
      ],
      "id": "dnZiz8anoqE1"
    },
    {
      "cell_type": "code",
      "source": [
        "# Implementing OTSU's thresholding\n",
        "# img = img.flatten()\n",
        "# plt.hist(img)\n",
        "def Otsu(img):\n",
        "  mean = img.mean()\n",
        "  img[img > mean] = 1\n",
        "  img[img < mean ] = 0\n",
        "  return img  \n",
        "img = Otsu(img)\n",
        "plt.imshow(img)"
      ],
      "metadata": {
        "colab": {
          "base_uri": "https://localhost:8080/",
          "height": 285
        },
        "id": "BxeuPGxBVHO_",
        "outputId": "322b17ae-c246-40a2-ac9d-79d9d4c5d762"
      },
      "id": "BxeuPGxBVHO_",
      "execution_count": 47,
      "outputs": [
        {
          "output_type": "execute_result",
          "data": {
            "text/plain": [
              "<matplotlib.image.AxesImage at 0x7f34380cab50>"
            ]
          },
          "metadata": {},
          "execution_count": 47
        },
        {
          "output_type": "display_data",
          "data": {
            "text/plain": [
              "<Figure size 432x288 with 1 Axes>"
            ],
            "image/png": "[encoded data removed]"
          },
          "metadata": {
            "needs_background": "light"
          }
        }
      ]
    },
    {
      "cell_type": "markdown",
      "source": [
        "# 3. Creating and training the model"
      ],
      "metadata": {
        "id": "e2LHBTE_wvw-"
      },
      "id": "e2LHBTE_wvw-"
    },
    {
      "cell_type": "code",
      "execution_count": 55,
      "metadata": {
        "colab": {
          "base_uri": "https://localhost:8080/"
        },
        "id": "OcqqZQ38GVbw",
        "outputId": "73c544fa-70ac-4912-db18-7a2e078d6d0f"
      },
      "outputs": [
        {
          "output_type": "execute_result",
          "data": {
            "text/plain": [
              "TeatClassifier(\n",
              "  (model): Sequential(\n",
              "    (0): Flatten(start_dim=1, end_dim=-1)\n",
              "    (1): Linear(in_features=16875, out_features=15000, bias=True)\n",
              "    (2): LeakyReLU(negative_slope=0.01)\n",
              "    (3): Linear(in_features=15000, out_features=5000, bias=True)\n",
              "    (4): LeakyReLU(negative_slope=0.01)\n",
              "    (5): Linear(in_features=5000, out_features=1000, bias=True)\n",
              "    (6): LeakyReLU(negative_slope=0.01)\n",
              "    (7): Linear(in_features=1000, out_features=4, bias=True)\n",
              "    (8): Softmax(dim=None)\n",
              "  )\n",
              ")"
            ]
          },
          "metadata": {},
          "execution_count": 55
        }
      ],
      "source": [
        "class TeatClassifier(nn.Module): \n",
        "    def __init__(self):\n",
        "        super().__init__()\n",
        "        self.model = nn.Sequential(\n",
        "            nn.Flatten(), \n",
        "            nn.Linear(3*75*75, 15000), \n",
        "            nn.LeakyReLU(),\n",
        "            nn.Linear(15000, 5000),\n",
        "            nn.LeakyReLU(),\n",
        "            nn.Linear(5000, 1000),\n",
        "            nn.LeakyReLU(), \n",
        "            nn.Linear(1000, 4),\n",
        "            nn.Softmax()\n",
        "        )\n",
        "\n",
        "    def forward(self, x): \n",
        "        return self.model(x)\n",
        "\n",
        "device = \"cuda\" if torch.cuda.is_available() else \"cpu\"\n",
        "\n",
        "clf = TeatClassifier().to(device)\n",
        "clf"
      ],
      "id": "OcqqZQ38GVbw"
    },
    {
      "cell_type": "code",
      "execution_count": 56,
      "metadata": {
        "colab": {
          "base_uri": "https://localhost:8080/",
          "height": 1000
        },
        "id": "TkMLeEgiN2M6",
        "outputId": "e587cbb2-2b25-4a31-8093-da42c297d703"
      },
      "outputs": [
        {
          "output_type": "stream",
          "name": "stdout",
          "text": [
            "Epoch:0 training accuracy is 39.60826873779297\n",
            "Epoch:0 training loss is 1.3847947120666504\n",
            "Epoch:0 valid accuracy is 45.21739196777344\n",
            "Epoch:0 valid loss is 1.3822938203811646\n",
            "Epoch:1 training accuracy is 42.002174377441406\n",
            "Epoch:1 training loss is 1.3704687356948853\n",
            "Epoch:1 valid accuracy is 45.21739196777344\n",
            "Epoch:1 valid loss is 1.3763614892959595\n",
            "Epoch:2 training accuracy is 40.80522155761719\n",
            "Epoch:2 training loss is 1.3851449489593506\n",
            "Epoch:2 valid accuracy is 35.21739196777344\n",
            "Epoch:2 valid loss is 1.381089210510254\n",
            "Epoch:3 training accuracy is 37.21436309814453\n",
            "Epoch:3 training loss is 1.3701411485671997\n",
            "Epoch:3 valid accuracy is 45.21739196777344\n",
            "Epoch:3 valid loss is 1.3821622133255005\n",
            "Epoch:4 training accuracy is 41.89336395263672\n",
            "Epoch:4 training loss is 1.3925985097885132\n",
            "Epoch:4 valid accuracy is 35.21739196777344\n",
            "Epoch:4 valid loss is 1.3772224187850952\n",
            "Epoch:5 training accuracy is 42.981502532958984\n",
            "Epoch:5 training loss is 1.374381422996521\n",
            "Epoch:5 valid accuracy is 45.21739196777344\n",
            "Epoch:5 valid loss is 1.3714231252670288\n",
            "Epoch:6 training accuracy is 40.696407318115234\n",
            "Epoch:6 training loss is 1.368896245956421\n",
            "Epoch:6 valid accuracy is 35.21739196777344\n",
            "Epoch:6 valid loss is 1.368656039237976\n",
            "Epoch:7 training accuracy is 42.21980285644531\n",
            "Epoch:7 training loss is 1.374916672706604\n",
            "Epoch:7 valid accuracy is 45.21739196777344\n",
            "Epoch:7 valid loss is 1.3824920654296875\n",
            "Epoch:8 training accuracy is 40.26115417480469\n",
            "Epoch:8 training loss is 1.373420000076294\n",
            "Epoch:8 valid accuracy is 45.21739196777344\n",
            "Epoch:8 valid loss is 1.3733962774276733\n",
            "Epoch:9 training accuracy is 41.022850036621094\n",
            "Epoch:9 training loss is 1.3802192211151123\n",
            "Epoch:9 valid accuracy is 35.21739196777344\n",
            "Epoch:9 valid loss is 1.3706927299499512\n",
            "Epoch:10 training accuracy is 38.73775863647461\n",
            "Epoch:10 training loss is 1.3705222606658936\n",
            "Epoch:10 valid accuracy is 45.21739196777344\n",
            "Epoch:10 valid loss is 1.3774442672729492\n",
            "Epoch:11 training accuracy is 41.022850036621094\n",
            "Epoch:11 training loss is 1.372143030166626\n",
            "Epoch:11 valid accuracy is 35.21739196777344\n",
            "Epoch:11 valid loss is 1.3850973844528198\n",
            "Epoch:12 training accuracy is 40.36996841430664\n",
            "Epoch:12 training loss is 1.3849570751190186\n",
            "Epoch:12 valid accuracy is 45.21739196777344\n",
            "Epoch:12 valid loss is 1.3756380081176758\n",
            "Epoch:13 training accuracy is 42.002174377441406\n",
            "Epoch:13 training loss is 1.3726906776428223\n",
            "Epoch:13 valid accuracy is 45.21739196777344\n",
            "Epoch:13 valid loss is 1.375142216682434\n",
            "Epoch:14 training accuracy is 39.39064025878906\n",
            "Epoch:14 training loss is 0.968906819820404\n",
            "Epoch:14 valid accuracy is 35.21739196777344\n",
            "Epoch:14 valid loss is 1.432969093322754\n",
            "Epoch:15 training accuracy is 38.193687438964844\n",
            "Epoch:15 training loss is 1.5042967796325684\n",
            "Epoch:15 valid accuracy is 45.21739196777344\n",
            "Epoch:15 valid loss is 1.4353350400924683\n",
            "Epoch:16 training accuracy is 37.43199157714844\n",
            "Epoch:16 training loss is 1.3945600986480713\n",
            "Epoch:16 valid accuracy is 45.21739196777344\n",
            "Epoch:16 valid loss is 1.3318930864334106\n",
            "Epoch:17 training accuracy is 40.26115417480469\n",
            "Epoch:17 training loss is 1.371390700340271\n",
            "Epoch:17 valid accuracy is 45.21739196777344\n",
            "Epoch:17 valid loss is 1.3727526664733887\n",
            "Epoch:18 training accuracy is 41.240478515625\n",
            "Epoch:18 training loss is 1.370826244354248\n",
            "Epoch:18 valid accuracy is 35.21739196777344\n",
            "Epoch:18 valid loss is 1.379901647567749\n",
            "Epoch:19 training accuracy is 39.06420135498047\n",
            "Epoch:19 training loss is 1.3724541664123535\n",
            "Epoch:19 valid accuracy is 35.21739196777344\n",
            "Epoch:19 valid loss is 1.3755401372909546\n",
            "Epoch:20 training accuracy is 40.478782653808594\n",
            "Epoch:20 training loss is 1.3759493827819824\n",
            "Epoch:20 valid accuracy is 45.21739196777344\n",
            "Epoch:20 valid loss is 1.3720176219940186\n",
            "Epoch:21 training accuracy is 42.43743133544922\n",
            "Epoch:21 training loss is 1.379030704498291\n",
            "Epoch:21 valid accuracy is 35.21739196777344\n",
            "Epoch:21 valid loss is 1.381836175918579\n",
            "Epoch:22 training accuracy is 40.04352569580078\n",
            "Epoch:22 training loss is 1.3695569038391113\n",
            "Epoch:22 valid accuracy is 45.21739196777344\n",
            "Epoch:22 valid loss is 1.3799893856048584\n",
            "Epoch:23 training accuracy is 42.87268829345703\n",
            "Epoch:23 training loss is 1.3759617805480957\n",
            "Epoch:23 valid accuracy is 35.21739196777344\n",
            "Epoch:23 valid loss is 1.378892421722412\n",
            "Epoch:24 training accuracy is 38.73775863647461\n",
            "Epoch:24 training loss is 1.3971290588378906\n",
            "Epoch:24 valid accuracy is 35.21739196777344\n",
            "Epoch:24 valid loss is 1.3823022842407227\n",
            "Epoch:25 training accuracy is 41.13166427612305\n",
            "Epoch:25 training loss is 1.3751682043075562\n",
            "Epoch:25 valid accuracy is 35.21739196777344\n",
            "Epoch:25 valid loss is 1.3875242471694946\n",
            "Epoch:26 training accuracy is 40.696407318115234\n",
            "Epoch:26 training loss is 1.3711121082305908\n",
            "Epoch:26 valid accuracy is 45.21739196777344\n",
            "Epoch:26 valid loss is 1.3711528778076172\n",
            "Epoch:27 training accuracy is 41.56692123413086\n",
            "Epoch:27 training loss is 1.371727705001831\n",
            "Epoch:27 valid accuracy is 35.21739196777344\n",
            "Epoch:27 valid loss is 1.3784974813461304\n",
            "Epoch:28 training accuracy is 38.3025016784668\n",
            "Epoch:28 training loss is 1.3730281591415405\n",
            "Epoch:28 valid accuracy is 45.21739196777344\n",
            "Epoch:28 valid loss is 1.3717373609542847\n"
          ]
        },
        {
          "output_type": "error",
          "ename": "KeyboardInterrupt",
          "evalue": "ignored",
          "traceback": [
            "\u001b[0;31m---------------------------------------------------------------------------\u001b[0m",
            "\u001b[0;31mKeyboardInterrupt\u001b[0m                         Traceback (most recent call last)",
            "\u001b[0;32m<ipython-input-56-8e6dab8a35fd>\u001b[0m in \u001b[0;36m<module>\u001b[0;34m\u001b[0m\n\u001b[1;32m     19\u001b[0m         \u001b[0mloss\u001b[0m\u001b[0;34m.\u001b[0m\u001b[0mbackward\u001b[0m\u001b[0;34m(\u001b[0m\u001b[0;34m)\u001b[0m\u001b[0;34m\u001b[0m\u001b[0;34m\u001b[0m\u001b[0m\n\u001b[1;32m     20\u001b[0m         \u001b[0moptim\u001b[0m\u001b[0;34m.\u001b[0m\u001b[0mstep\u001b[0m\u001b[0;34m(\u001b[0m\u001b[0;34m)\u001b[0m\u001b[0;34m\u001b[0m\u001b[0;34m\u001b[0m\u001b[0m\n\u001b[0;32m---> 21\u001b[0;31m         \u001b[0mcorrect\u001b[0m \u001b[0;34m+=\u001b[0m \u001b[0;34m(\u001b[0m\u001b[0mtorch\u001b[0m\u001b[0;34m.\u001b[0m\u001b[0margmax\u001b[0m\u001b[0;34m(\u001b[0m\u001b[0myhat\u001b[0m\u001b[0;34m,\u001b[0m \u001b[0mdim\u001b[0m\u001b[0;34m=\u001b[0m\u001b[0;36m1\u001b[0m\u001b[0;34m)\u001b[0m \u001b[0;34m==\u001b[0m \u001b[0my\u001b[0m\u001b[0;34m)\u001b[0m\u001b[0;34m.\u001b[0m\u001b[0mfloat\u001b[0m\u001b[0;34m(\u001b[0m\u001b[0;34m)\u001b[0m\u001b[0;34m.\u001b[0m\u001b[0msum\u001b[0m\u001b[0;34m(\u001b[0m\u001b[0;34m)\u001b[0m\u001b[0;34m.\u001b[0m\u001b[0mdetach\u001b[0m\u001b[0;34m(\u001b[0m\u001b[0;34m)\u001b[0m\u001b[0;34m.\u001b[0m\u001b[0mcpu\u001b[0m\u001b[0;34m(\u001b[0m\u001b[0;34m)\u001b[0m\u001b[0;34m\u001b[0m\u001b[0;34m\u001b[0m\u001b[0m\n\u001b[0m\u001b[1;32m     22\u001b[0m     \u001b[0maccuracy\u001b[0m \u001b[0;34m=\u001b[0m \u001b[0;36m100\u001b[0m \u001b[0;34m*\u001b[0m \u001b[0mcorrect\u001b[0m \u001b[0;34m/\u001b[0m \u001b[0mlen\u001b[0m\u001b[0;34m(\u001b[0m\u001b[0mtrain_dataset\u001b[0m\u001b[0;34m)\u001b[0m\u001b[0;34m\u001b[0m\u001b[0;34m\u001b[0m\u001b[0m\n\u001b[1;32m     23\u001b[0m     \u001b[0mtrain_acc\u001b[0m\u001b[0;34m.\u001b[0m\u001b[0mappend\u001b[0m\u001b[0;34m(\u001b[0m\u001b[0maccuracy\u001b[0m\u001b[0;34m)\u001b[0m\u001b[0;34m\u001b[0m\u001b[0;34m\u001b[0m\u001b[0m\n",
            "\u001b[0;31mKeyboardInterrupt\u001b[0m: "
          ]
        }
      ],
      "source": [
        "optim = torch.optim.Adam(clf.parameters(), lr=learning_rate, weight_decay=0.3)\n",
        "criterion = nn.CrossEntropyLoss(label_smoothing=0.3) \n",
        "train_loss = []\n",
        "valid_loss = []\n",
        "valid_acc = []\n",
        "train_acc = []\n",
        "\n",
        "\n",
        "for epoch in range(num_epochs):\n",
        "# Training loop\n",
        "    correct = 0\n",
        "    for batch in train_dl: \n",
        "        X,y = batch \n",
        "        X, y = X.to(device), y.to(device) \n",
        "        yhat = clf(X) \n",
        "        loss = criterion(yhat, y) \n",
        "        # Apply backprop \n",
        "        optim.zero_grad()\n",
        "        loss.backward() \n",
        "        optim.step() \n",
        "        correct += (torch.argmax(yhat, dim=1) == y).float().sum().detach().cpu()\n",
        "    accuracy = 100 * correct / len(train_dataset)\n",
        "    train_acc.append(accuracy)    \n",
        "    # print(f\"Epoch:{epoch} training accuracy is {accuracy}\")\n",
        "    train_loss.append(loss.item())\n",
        "    # print(f\"Epoch:{epoch} training loss is {loss.item()}\")\n",
        "    \n",
        "    clf.eval()\n",
        "\n",
        "# Valid loop\n",
        "    correct = 0\n",
        "    for batch in valid_dl:\n",
        "        X, y = batch \n",
        "        X, y = X.to(device), y.to(device) \n",
        "        yhat = clf(X) \n",
        "        loss = criterion(yhat, y)\n",
        "        correct += (torch.argmax(yhat, dim=1) == y).float().sum().detach().cpu()\n",
        "    accuracy = 100 * correct / len(valid_dataset)\n",
        "    valid_acc.append(accuracy)\n",
        "    # print(f\"Epoch:{epoch} valid accuracy is {accuracy}\") \n",
        "    # print(f\"Epoch:{epoch} valid loss is {loss.item()}\")\n",
        "    valid_loss.append(loss.item())\n",
        "\n",
        "    # if epoch%5 == 0:\n",
        "    print(f\"Epoch:{epoch} training accuracy is {train_acc[-1] }\")\n",
        "    print(f\"Epoch:{epoch} training loss is {train_loss[-1]}\")\n",
        "    print(f\"Epoch:{epoch} valid accuracy is {valid_acc[-1]}\")\n",
        "    print(f\"Epoch:{epoch} valid loss is {valid_loss[-1]}\")"
      ],
      "id": "TkMLeEgiN2M6"
    },
    {
      "cell_type": "code",
      "execution_count": 58,
      "metadata": {
        "colab": {
          "base_uri": "https://localhost:8080/",
          "height": 265
        },
        "id": "aiBeEVcDOpqE",
        "outputId": "a50d1daa-5139-4840-d119-4fb8dde245a8"
      },
      "outputs": [
        {
          "output_type": "display_data",
          "data": {
            "text/plain": [
              "<Figure size 432x288 with 1 Axes>"
            ],
            "image/png": "[encoded data removed]"
          },
          "metadata": {
            "needs_background": "light"
          }
        }
      ],
      "source": [
        "plt.plot(train_loss, label='Training loss')\n",
        "plt.plot(valid_loss, label='Valid loss')\n",
        "plt.legend(loc='upper left', title='Loss');"
      ],
      "id": "aiBeEVcDOpqE"
    },
    {
      "cell_type": "code",
      "execution_count": 59,
      "metadata": {
        "id": "frGh9LYZkskN",
        "colab": {
          "base_uri": "https://localhost:8080/",
          "height": 265
        },
        "outputId": "49cc5547-2cf2-4ce4-a732-7515d15c9815"
      },
      "outputs": [
        {
          "output_type": "display_data",
          "data": {
            "text/plain": [
              "<Figure size 432x288 with 1 Axes>"
            ],
            "image/png": "[encoded data removed]"
          },
          "metadata": {
            "needs_background": "light"
          }
        }
      ],
      "source": [
        "plt.plot(train_acc, label='Training Accuracy')\n",
        "plt.plot(valid_acc, label='Valid Accuracy')\n",
        "plt.legend(loc='upper left', title='Accuracy');"
      ],
      "id": "frGh9LYZkskN"
    },
    {
      "cell_type": "markdown",
      "source": [
        "# Saving the model, loading it and making predictions"
      ],
      "metadata": {
        "id": "iOT96qZRvn1P"
      },
      "id": "iOT96qZRvn1P"
    },
    {
      "cell_type": "code",
      "execution_count": 60,
      "metadata": {
        "colab": {
          "base_uri": "https://localhost:8080/",
          "height": 458
        },
        "id": "CULkGEi5Pluk",
        "outputId": "849c0366-b9d3-4ce8-e197-86c302dfa978"
      },
      "outputs": [
        {
          "output_type": "stream",
          "name": "stdout",
          "text": [
            "380\n",
            "380\n"
          ]
        },
        {
          "output_type": "execute_result",
          "data": {
            "text/plain": [
              "     20200724_094356_LH_C2_PN_M.jpg  1\n",
              "0    20200724_094157_LF_C2_PN_M.jpg  1\n",
              "1    20200724_094108_RF_C1_PN_M.jpg  1\n",
              "2    20200724_093930_LH_C3_PN_M.jpg  1\n",
              "3    20200724_094337_RF_C1_PN_M.jpg  1\n",
              "4    20200724_094337_LH_C1_PN_M.jpg  1\n",
              "..                              ... ..\n",
              "374  R8_0736_45_crop_RF_C4_PN_m.jpg  1\n",
              "375  R8_0726_35_crop_LH_C2_PN_m.jpg  1\n",
              "376  R7_0692_48_crop_LH_C2_PN_m.jpg  1\n",
              "377  R9_0793_57_crop_LH_C2_PP_m.jpg  1\n",
              "378  R9_0791_55_crop_RH_C2_PN_m.jpg  1\n",
              "\n",
              "[379 rows x 2 columns]"
            ],
            "text/html": [
              "\n",
              "  <div id=\"df-3071ee7e-4632-4fd9-a541-1c5910bddcf1\">\n",
              "    <div class=\"colab-df-container\">\n",
              "      <div>\n",
              "<style scoped>\n",
              "    .dataframe tbody tr th:only-of-type {\n",
              "        vertical-align: middle;\n",
              "    }\n",
              "\n",
              "    .dataframe tbody tr th {\n",
              "        vertical-align: top;\n",
              "    }\n",
              "\n",
              "    .dataframe thead th {\n",
              "        text-align: right;\n",
              "    }\n",
              "</style>\n",
              "<table border=\"1\" class=\"dataframe\">\n",
              "  <thead>\n",
              "    <tr style=\"text-align: right;\">\n",
              "      <th></th>\n",
              "      <th>20200724_094356_LH_C2_PN_M.jpg</th>\n",
              "      <th>1</th>\n",
              "    </tr>\n",
              "  </thead>\n",
              "  <tbody>\n",
              "    <tr>\n",
              "      <th>0</th>\n",
              "      <td>20200724_094157_LF_C2_PN_M.jpg</td>\n",
              "      <td>1</td>\n",
              "    </tr>\n",
              "    <tr>\n",
              "      <th>1</th>\n",
              "      <td>20200724_094108_RF_C1_PN_M.jpg</td>\n",
              "      <td>1</td>\n",
              "    </tr>\n",
              "    <tr>\n",
              "      <th>2</th>\n",
              "      <td>20200724_093930_LH_C3_PN_M.jpg</td>\n",
              "      <td>1</td>\n",
              "    </tr>\n",
              "    <tr>\n",
              "      <th>3</th>\n",
              "      <td>20200724_094337_RF_C1_PN_M.jpg</td>\n",
              "      <td>1</td>\n",
              "    </tr>\n",
              "    <tr>\n",
              "      <th>4</th>\n",
              "      <td>20200724_094337_LH_C1_PN_M.jpg</td>\n",
              "      <td>1</td>\n",
              "    </tr>\n",
              "    <tr>\n",
              "      <th>...</th>\n",
              "      <td>...</td>\n",
              "      <td>...</td>\n",
              "    </tr>\n",
              "    <tr>\n",
              "      <th>374</th>\n",
              "      <td>R8_0736_45_crop_RF_C4_PN_m.jpg</td>\n",
              "      <td>1</td>\n",
              "    </tr>\n",
              "    <tr>\n",
              "      <th>375</th>\n",
              "      <td>R8_0726_35_crop_LH_C2_PN_m.jpg</td>\n",
              "      <td>1</td>\n",
              "    </tr>\n",
              "    <tr>\n",
              "      <th>376</th>\n",
              "      <td>R7_0692_48_crop_LH_C2_PN_m.jpg</td>\n",
              "      <td>1</td>\n",
              "    </tr>\n",
              "    <tr>\n",
              "      <th>377</th>\n",
              "      <td>R9_0793_57_crop_LH_C2_PP_m.jpg</td>\n",
              "      <td>1</td>\n",
              "    </tr>\n",
              "    <tr>\n",
              "      <th>378</th>\n",
              "      <td>R9_0791_55_crop_RH_C2_PN_m.jpg</td>\n",
              "      <td>1</td>\n",
              "    </tr>\n",
              "  </tbody>\n",
              "</table>\n",
              "<p>379 rows × 2 columns</p>\n",
              "</div>\n",
              "      <button class=\"colab-df-convert\" onclick=\"convertToInteractive('df-3071ee7e-4632-4fd9-a541-1c5910bddcf1')\"\n",
              "              title=\"Convert this dataframe to an interactive table.\"\n",
              "              style=\"display:none;\">\n",
              "        \n",
              "  <svg xmlns=\"http://www.w3.org/2000/svg\" height=\"24px\"viewBox=\"0 0 24 24\"\n",
              "       width=\"24px\">\n",
              "    <path d=\"M0 0h24v24H0V0z\" fill=\"none\"/>\n",
              "    <path d=\"M18.56 5.44l.94 2.06.94-2.06 2.06-.94-2.06-.94-.94-2.06-.94 2.06-2.06.94zm-11 1L8.5 8.5l.94-2.06 2.06-.94-2.06-.94L8.5 2.5l-.94 2.06-2.06.94zm10 10l.94 2.06.94-2.06 2.06-.94-2.06-.94-.94-2.06-.94 2.06-2.06.94z\"/><path d=\"M17.41 7.96l-1.37-1.37c-.4-.4-.92-.59-1.43-.59-.52 0-1.04.2-1.43.59L10.3 9.45l-7.72 7.72c-.78.78-.78 2.05 0 2.83L4 21.41c.39.39.9.59 1.41.59.51 0 1.02-.2 1.41-.59l7.78-7.78 2.81-2.81c.8-.78.8-2.07 0-2.86zM5.41 20L4 18.59l7.72-7.72 1.47 1.35L5.41 20z\"/>\n",
              "  </svg>\n",
              "      </button>\n",
              "      \n",
              "  <style>\n",
              "    .colab-df-container {\n",
              "      display:flex;\n",
              "      flex-wrap:wrap;\n",
              "      gap: 12px;\n",
              "    }\n",
              "\n",
              "    .colab-df-convert {\n",
              "      background-color: #E8F0FE;\n",
              "      border: none;\n",
              "      border-radius: 50%;\n",
              "      cursor: pointer;\n",
              "      display: none;\n",
              "      fill: #1967D2;\n",
              "      height: 32px;\n",
              "      padding: 0 0 0 0;\n",
              "      width: 32px;\n",
              "    }\n",
              "\n",
              "    .colab-df-convert:hover {\n",
              "      background-color: #E2EBFA;\n",
              "      box-shadow: 0px 1px 2px rgba(60, 64, 67, 0.3), 0px 1px 3px 1px rgba(60, 64, 67, 0.15);\n",
              "      fill: #174EA6;\n",
              "    }\n",
              "\n",
              "    [theme=dark] .colab-df-convert {\n",
              "      background-color: #3B4455;\n",
              "      fill: #D2E3FC;\n",
              "    }\n",
              "\n",
              "    [theme=dark] .colab-df-convert:hover {\n",
              "      background-color: #434B5C;\n",
              "      box-shadow: 0px 1px 3px 1px rgba(0, 0, 0, 0.15);\n",
              "      filter: drop-shadow(0px 1px 2px rgba(0, 0, 0, 0.3));\n",
              "      fill: #FFFFFF;\n",
              "    }\n",
              "  </style>\n",
              "\n",
              "      <script>\n",
              "        const buttonEl =\n",
              "          document.querySelector('#df-3071ee7e-4632-4fd9-a541-1c5910bddcf1 button.colab-df-convert');\n",
              "        buttonEl.style.display =\n",
              "          google.colab.kernel.accessAllowed ? 'block' : 'none';\n",
              "\n",
              "        async function convertToInteractive(key) {\n",
              "          const element = document.querySelector('#df-3071ee7e-4632-4fd9-a541-1c5910bddcf1');\n",
              "          const dataTable =\n",
              "            await google.colab.kernel.invokeFunction('convertToInteractive',\n",
              "                                                     [key], {});\n",
              "          if (!dataTable) return;\n",
              "\n",
              "          const docLinkHtml = 'Like what you see? Visit the ' +\n",
              "            '<a target=\"_blank\" href=https://colab.research.google.com/notebooks/data_table.ipynb>data table notebook</a>'\n",
              "            + ' to learn more about interactive tables.';\n",
              "          element.innerHTML = '';\n",
              "          dataTable['output_type'] = 'display_data';\n",
              "          await google.colab.output.renderOutput(dataTable, element);\n",
              "          const docLink = document.createElement('div');\n",
              "          docLink.innerHTML = docLinkHtml;\n",
              "          element.appendChild(docLink);\n",
              "        }\n",
              "      </script>\n",
              "    </div>\n",
              "  </div>\n",
              "  "
            ]
          },
          "metadata": {},
          "execution_count": 60
        }
      ],
      "source": [
        "with open('model_state.pt', 'wb') as f: \n",
        "    torch.save(clf.state_dict(), f) \n",
        "\n",
        "with open('model_state.pt', 'rb') as f: \n",
        "    clf.load_state_dict(torch.load(f))\n",
        "\n",
        "test_preds = []\n",
        "files = []\n",
        "\n",
        "for batch in test_dl:\n",
        "    img, fname = batch\n",
        "    pred = clf(img.to(device))\n",
        "    test_preds.extend(torch.argmax(pred, dim=1).detach().cpu())\n",
        "    files.extend(np.array(fname).flatten())\n",
        "\n",
        "df = pd.DataFrame({\"Imagename\":files, \"preds\":test_preds})\n",
        "df.preds = df.preds.astype(int)\n",
        "df.Imagename = df.Imagename.apply(lambda x: x.split(\"/\")[-1])\n",
        "df.to_csv(\"submission.csv\", header=None, index=None)\n",
        "pd.read_csv(\"submission.csv\")"
      ],
      "id": "CULkGEi5Pluk"
    },
    {
      "cell_type": "markdown",
      "source": [
        "#### Test accuracy"
      ],
      "metadata": {
        "id": "QI21S7Onwmho"
      },
      "id": "QI21S7Onwmho"
    },
    {
      "cell_type": "markdown",
      "source": [
        "![image.png](data:image/png;base64,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)"
      ],
      "metadata": {
        "id": "dMuuKj2qwjBe"
      },
      "id": "dMuuKj2qwjBe"
    }
  ],
  "metadata": {
    "accelerator": "GPU",
    "colab": {
      "provenance": []
    },
    "gpuClass": "standard",
    "kernelspec": {
      "display_name": "Python 3 (ipykernel)",
      "language": "python",
      "name": "python3"
    },
    "language_info": {
      "codemirror_mode": {
        "name": "ipython",
        "version": 3
      },
      "file_extension": ".py",
      "mimetype": "text/x-python",
      "name": "python",
      "nbconvert_exporter": "python",
      "pygments_lexer": "ipython3",
      "version": "3.9.10"
    }
  },
  "nbformat": 4,
  "nbformat_minor": 5
}